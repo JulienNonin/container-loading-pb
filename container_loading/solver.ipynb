{
 "nbformat": 4,
 "nbformat_minor": 2,
 "metadata": {
  "language_info": {
   "name": "python",
   "codemirror_mode": {
    "name": "ipython",
    "version": 3
   },
   "version": "3.7.3"
  },
  "orig_nbformat": 2,
  "file_extension": ".py",
  "mimetype": "text/x-python",
  "name": "python",
  "npconvert_exporter": "python",
  "pygments_lexer": "ipython3",
  "version": 3
 },
 "cells": [
  {
   "cell_type": "code",
   "execution_count": null,
   "metadata": {},
   "outputs": [],
   "source": []
  },
  {
   "cell_type": "code",
   "execution_count": 1,
   "metadata": {},
   "outputs": [],
   "source": [
    "import numpy as np\n",
    "import matplotlib.pyplot as plt\n",
    "import container_loading.cargo as clp"
   ]
  },
  {
   "cell_type": "code",
   "execution_count": 18,
   "metadata": {},
   "outputs": [],
   "source": [
    "def str_to_int(s):\n",
    "    return [int(e) for e in s.split()]\n",
    "\n",
    "def load_BR_test(num=1, dir=\"test/clp_data_set/Bischoff_Ratcliff\"):\n",
    "    with open(f\"{dir}/thpack{num}.txt\", 'r') as f:\n",
    "        P = int(f.readline())  # number of test problem\n",
    "        containers = [0]*P \n",
    "        for p in range(P):  # for each problem p\n",
    "            _, seed = str_to_int(f.readline())\n",
    "            cl, cw, ch = str_to_int(f.readline())  # container length, width, height\n",
    "            n, = str_to_int(f.readline())  # number of box types\n",
    "            cargo = {}\n",
    "            for i in range(n):  # add each box type into the cargo\n",
    "                _, l, ox, w, oy, h, oz, q = str_to_int(f.readline())\n",
    "                cargo[clp.BoxType((l, w, h), (ox, oy, oz))] = q\n",
    "            containers[p] = clp.Container((cl, cw, ch), cargo)\n",
    "    return containers"
   ]
  },
  {
   "cell_type": "code",
   "execution_count": 20,
   "metadata": {},
   "outputs": [
    {
     "data": {
      "text/plain": "({(602) \u001b[33m108·76·30\u001b[0m: 40,\n  (603) \u001b[33m110·43·25\u001b[0m: 33,\n  (604) \u001b[33m92·81·55\u001b[0m: 39},\n [\u001b[33m587·233·220\u001b[94m (0 0 0)\u001b[0m])"
     },
     "execution_count": 20,
     "metadata": {},
     "output_type": "execute_result"
    }
   ],
   "source": [
    "containers = load_BR_test()\n",
    "containers[0].cargo, containers[0].spaces"
   ]
  },
  {
   "cell_type": "code",
   "execution_count": null,
   "metadata": {},
   "outputs": [],
   "source": []
  }
 ]
}