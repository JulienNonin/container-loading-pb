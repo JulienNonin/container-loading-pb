{
 "nbformat": 4,
 "nbformat_minor": 2,
 "metadata": {
  "language_info": {
   "name": "python",
   "codemirror_mode": {
    "name": "ipython",
    "version": 3
   },
   "version": "3.7.3"
  },
  "orig_nbformat": 2,
  "file_extension": ".py",
  "mimetype": "text/x-python",
  "name": "python",
  "npconvert_exporter": "python",
  "pygments_lexer": "ipython3",
  "version": 3
 },
 "cells": [
  {
   "cell_type": "code",
   "execution_count": 3,
   "metadata": {},
   "outputs": [],
   "source": [
    "import numpy as np\n",
    "import matplotlib.pyplot as plt\n",
    "from mpl_toolkits.mplot3d import Axes3D\n",
    "from mpl_toolkits.mplot3d.art3d import Poly3DCollection, Line3DCollection"
   ]
  },
  {
   "cell_type": "code",
   "execution_count": 4,
   "metadata": {},
   "outputs": [],
   "source": [
    "class RectangularCuboid():\n",
    "    def __init__(self, pos, dim):\n",
    "        self.pos = pos\n",
    "        self.dim = dim\n",
    "    \n",
    "    @property\n",
    "    def vertices(self):\n",
    "        x, y, z = self.pos\n",
    "        w, l, h = self.dim\n",
    "        return np.array([[x, y, z], [x, y+l, z], [x+w, y+l, z], [x+w, y, z],\n",
    "                [x, y, z+h], [x, y+l, z+h], [x+w, y+l, z+h], [x+w, y, z+h]])\n",
    "    \n",
    "    @property\n",
    "    def faces(self):\n",
    "        vertices = self.vertices\n",
    "        return [[vertices[0], vertices[1], vertices[2], vertices[3]],\n",
    "                [vertices[0], vertices[1], vertices[5], vertices[4]],\n",
    "                [vertices[1], vertices[2], vertices[6], vertices[5]],\n",
    "                [vertices[2], vertices[3], vertices[7], vertices[6]],\n",
    "                [vertices[3], vertices[0], vertices[4], vertices[7]],\n",
    "                [vertices[4], vertices[5], vertices[6], vertices[7]]]\n",
    "\n",
    "    def draw(self, ax):\n",
    "        faces = Poly3DCollection(self.faces, linestyle = '-', linewidths=1,\n",
    "            edgecolors=(0,0,1))\n",
    "        ax.add_collection3d(faces)\n",
    "        # Plot the points themselves to force the scaling of the axes\n",
    "        vertices = self.vertices\n",
    "        # ax.scatter(vertices[:,0], vertices[:,1], vertices[:,2], s=0)\n"
   ]
  },
  {
   "cell_type": "code",
   "execution_count": 20,
   "metadata": {},
   "outputs": [],
   "source": [
    "%matplotlib qt\n",
    "c = RectangularCuboid([0,0,0], [1, 4, 5])\n",
    "# fig = plt.figure()\n",
    "fig = plt.figure(figsize=plt.figaspect(1)*1.5)\n",
    "ax = fig.gca(projection='3d')\n",
    "ax.scatter(5,5,5, s=0)\n",
    "scaling = np.array([getattr(ax, 'get_{}lim'.format(dim))() for dim in 'xyz'])\n",
    "# ax.auto_scale_xyz(*[[np.min(scaling), np.max(scaling)]]*3)\n",
    "c.draw(ax)"
   ]
  },
  {
   "cell_type": "code",
   "execution_count": null,
   "metadata": {},
   "outputs": [],
   "source": []
  }
 ]
}